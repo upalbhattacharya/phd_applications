{
 "cells": [
  {
   "cell_type": "markdown",
   "id": "53ad851c-e846-46f8-bfb0-bdcc5a8abb71",
   "metadata": {},
   "source": [
    "# Multiomics modeling"
   ]
  },
  {
   "cell_type": "markdown",
   "id": "056d3afb-59b4-485d-983d-a4fc4328edc5",
   "metadata": {},
   "source": [
    "Let's look at the paper *\"Multiomics modeling of the immunome, transcriptome, microbiome, proteome and metabolome adaptations during human pregnancy\"* by **Ghaemi et al. 2019** (`task1_multiomics_ghaemi2019multiomics.pdf`).\n",
    "The idea is to use different modalities (measurements collected from the immune system, microbiome, etc.) to characterize biological changes during pregnancy. \n",
    "This includes whether we can predict the gestational age of a mother solely based on the collected biomarkers.\n",
    "\n",
    "**Note**: There is no need to get accquainted with multiomics modeling, at least for this exercise. In the end, this is just a regular data science task :) "
   ]
  },
  {
   "cell_type": "markdown",
   "id": "4010abf9-7c7d-438e-99cf-1678b84962fe",
   "metadata": {},
   "source": [
    "## Load the data"
   ]
  },
  {
   "cell_type": "markdown",
   "id": "a012e941-6fb3-41f7-9f0e-1f4ebcec56ad",
   "metadata": {},
   "source": [
    "Load the data from `multiomics_data.pickle` using `pickle`. You will get a [pandas](https://pandas.pydata.org/docs/user_guide/10min.html) DataFrame containing preprocessed data from the paper (the original data from their paper is a bit messy). The data contains several meta attributes as well as the different modalities.\n",
    "\n",
    "Meta attributes include:\n",
    "\n",
    "* `Sex`: sex of the baby\n",
    "* `timepoint`: 1-3 correspond to the three trimesters, 4 corresponds to postpartum\n",
    "* `gestational_age`: time of sampling"
   ]
  },
  {
   "cell_type": "markdown",
   "id": "b33f1174-8326-4fb5-a5fa-649a41f64401",
   "metadata": {},
   "source": [
    "Modalites are:\n",
    "    \n",
    "* `cellfree_rna`\n",
    "* `metabolomics`\n",
    "* `microbiome`\n",
    "* `plasma_luminex`\n",
    "* `serum_luminex`\n",
    "* `immune_system`\n",
    "* `plasma_somalogic`"
   ]
  },
  {
   "cell_type": "markdown",
   "id": "1eafff87-3cc6-4571-aab3-45125c607f37",
   "metadata": {},
   "source": [
    "For more details pleaase see the paper."
   ]
  },
  {
   "cell_type": "code",
   "execution_count": 8,
   "id": "256a11a9-81de-478e-99e1-17e0a8a5a837",
   "metadata": {},
   "outputs": [
    {
     "data": {
      "text/html": [
       "<div>\n",
       "<style scoped>\n",
       "    .dataframe tbody tr th:only-of-type {\n",
       "        vertical-align: middle;\n",
       "    }\n",
       "\n",
       "    .dataframe tbody tr th {\n",
       "        vertical-align: top;\n",
       "    }\n",
       "\n",
       "    .dataframe thead tr th {\n",
       "        text-align: left;\n",
       "    }\n",
       "</style>\n",
       "<table border=\"1\" class=\"dataframe\">\n",
       "  <thead>\n",
       "    <tr>\n",
       "      <th></th>\n",
       "      <th>Training/Validation</th>\n",
       "      <th>Gates ID</th>\n",
       "      <th>MRN</th>\n",
       "      <th>Study Subject ID Number</th>\n",
       "      <th>Sex</th>\n",
       "      <th>sex_bin</th>\n",
       "      <th>timepoint</th>\n",
       "      <th>gestational_age</th>\n",
       "      <th colspan=\"2\" halign=\"left\">cellfree_rna</th>\n",
       "      <th>...</th>\n",
       "      <th colspan=\"10\" halign=\"left\">plasma_somalogic</th>\n",
       "    </tr>\n",
       "    <tr>\n",
       "      <th></th>\n",
       "      <th></th>\n",
       "      <th></th>\n",
       "      <th></th>\n",
       "      <th></th>\n",
       "      <th></th>\n",
       "      <th></th>\n",
       "      <th></th>\n",
       "      <th></th>\n",
       "      <th>0_C2orf76</th>\n",
       "      <th>1_ACTL10</th>\n",
       "      <th>...</th>\n",
       "      <th>1290_UBE2G2</th>\n",
       "      <th>1291_TAGLN2</th>\n",
       "      <th>1292_ATP5O</th>\n",
       "      <th>1293_POMC</th>\n",
       "      <th>1294_CRYZL1</th>\n",
       "      <th>1295_SERPINF1</th>\n",
       "      <th>1296_CTSF</th>\n",
       "      <th>1297_FTCD</th>\n",
       "      <th>1298_USP25</th>\n",
       "      <th>1299_PLXNB2</th>\n",
       "    </tr>\n",
       "  </thead>\n",
       "  <tbody>\n",
       "    <tr>\n",
       "      <th>0</th>\n",
       "      <td>T</td>\n",
       "      <td>PTLG002</td>\n",
       "      <td>16661779</td>\n",
       "      <td>10565</td>\n",
       "      <td>Male</td>\n",
       "      <td>1</td>\n",
       "      <td>1</td>\n",
       "      <td>11</td>\n",
       "      <td>0.312437</td>\n",
       "      <td>-1.892930e-16</td>\n",
       "      <td>...</td>\n",
       "      <td>4804.4</td>\n",
       "      <td>2233.0</td>\n",
       "      <td>3610.9</td>\n",
       "      <td>715.8</td>\n",
       "      <td>151.4</td>\n",
       "      <td>37885.8</td>\n",
       "      <td>1479.1</td>\n",
       "      <td>3261.8</td>\n",
       "      <td>561.3</td>\n",
       "      <td>3227.0</td>\n",
       "    </tr>\n",
       "    <tr>\n",
       "      <th>1</th>\n",
       "      <td>T</td>\n",
       "      <td>PTLG002</td>\n",
       "      <td>16661779</td>\n",
       "      <td>10565</td>\n",
       "      <td>Male</td>\n",
       "      <td>1</td>\n",
       "      <td>2</td>\n",
       "      <td>18</td>\n",
       "      <td>0.312437</td>\n",
       "      <td>-1.892930e-16</td>\n",
       "      <td>...</td>\n",
       "      <td>4086.0</td>\n",
       "      <td>2160.5</td>\n",
       "      <td>2260.4</td>\n",
       "      <td>825.2</td>\n",
       "      <td>161.0</td>\n",
       "      <td>41821.5</td>\n",
       "      <td>1465.1</td>\n",
       "      <td>1839.8</td>\n",
       "      <td>597.8</td>\n",
       "      <td>3366.0</td>\n",
       "    </tr>\n",
       "    <tr>\n",
       "      <th>2</th>\n",
       "      <td>T</td>\n",
       "      <td>PTLG002</td>\n",
       "      <td>16661779</td>\n",
       "      <td>10565</td>\n",
       "      <td>Male</td>\n",
       "      <td>1</td>\n",
       "      <td>3</td>\n",
       "      <td>32</td>\n",
       "      <td>0.312437</td>\n",
       "      <td>-1.892930e-16</td>\n",
       "      <td>...</td>\n",
       "      <td>4328.0</td>\n",
       "      <td>1818.4</td>\n",
       "      <td>2445.2</td>\n",
       "      <td>1241.8</td>\n",
       "      <td>194.6</td>\n",
       "      <td>45526.1</td>\n",
       "      <td>1428.3</td>\n",
       "      <td>3057.2</td>\n",
       "      <td>625.7</td>\n",
       "      <td>8703.7</td>\n",
       "    </tr>\n",
       "    <tr>\n",
       "      <th>3</th>\n",
       "      <td>T</td>\n",
       "      <td>PTLG002</td>\n",
       "      <td>16661779</td>\n",
       "      <td>10565</td>\n",
       "      <td>Male</td>\n",
       "      <td>1</td>\n",
       "      <td>4</td>\n",
       "      <td>45</td>\n",
       "      <td>0.312437</td>\n",
       "      <td>-1.892930e-16</td>\n",
       "      <td>...</td>\n",
       "      <td>3442.4</td>\n",
       "      <td>2661.4</td>\n",
       "      <td>3879.2</td>\n",
       "      <td>703.6</td>\n",
       "      <td>153.7</td>\n",
       "      <td>36862.5</td>\n",
       "      <td>1063.6</td>\n",
       "      <td>7339.7</td>\n",
       "      <td>593.2</td>\n",
       "      <td>2918.9</td>\n",
       "    </tr>\n",
       "    <tr>\n",
       "      <th>4</th>\n",
       "      <td>T</td>\n",
       "      <td>PTLG004</td>\n",
       "      <td>23587868</td>\n",
       "      <td>10603</td>\n",
       "      <td>Female</td>\n",
       "      <td>0</td>\n",
       "      <td>1</td>\n",
       "      <td>11</td>\n",
       "      <td>5.204209</td>\n",
       "      <td>1.734736e+00</td>\n",
       "      <td>...</td>\n",
       "      <td>4261.9</td>\n",
       "      <td>1804.6</td>\n",
       "      <td>1470.6</td>\n",
       "      <td>526.8</td>\n",
       "      <td>163.0</td>\n",
       "      <td>38938.3</td>\n",
       "      <td>1170.1</td>\n",
       "      <td>1036.8</td>\n",
       "      <td>552.8</td>\n",
       "      <td>3457.1</td>\n",
       "    </tr>\n",
       "  </tbody>\n",
       "</table>\n",
       "<p>5 rows × 61274 columns</p>\n",
       "</div>"
      ],
      "text/plain": [
       "  Training/Validation Gates ID       MRN Study Subject ID Number     Sex  \\\n",
       "                                                                           \n",
       "0                   T  PTLG002  16661779                   10565    Male   \n",
       "1                   T  PTLG002  16661779                   10565    Male   \n",
       "2                   T  PTLG002  16661779                   10565    Male   \n",
       "3                   T  PTLG002  16661779                   10565    Male   \n",
       "4                   T  PTLG004  23587868                   10603  Female   \n",
       "\n",
       "  sex_bin timepoint gestational_age cellfree_rna                ...  \\\n",
       "                                       0_C2orf76      1_ACTL10  ...   \n",
       "0       1         1              11     0.312437 -1.892930e-16  ...   \n",
       "1       1         2              18     0.312437 -1.892930e-16  ...   \n",
       "2       1         3              32     0.312437 -1.892930e-16  ...   \n",
       "3       1         4              45     0.312437 -1.892930e-16  ...   \n",
       "4       0         1              11     5.204209  1.734736e+00  ...   \n",
       "\n",
       "  plasma_somalogic                                                             \\\n",
       "       1290_UBE2G2 1291_TAGLN2 1292_ATP5O 1293_POMC 1294_CRYZL1 1295_SERPINF1   \n",
       "0           4804.4      2233.0     3610.9     715.8       151.4       37885.8   \n",
       "1           4086.0      2160.5     2260.4     825.2       161.0       41821.5   \n",
       "2           4328.0      1818.4     2445.2    1241.8       194.6       45526.1   \n",
       "3           3442.4      2661.4     3879.2     703.6       153.7       36862.5   \n",
       "4           4261.9      1804.6     1470.6     526.8       163.0       38938.3   \n",
       "\n",
       "                                              \n",
       "  1296_CTSF 1297_FTCD 1298_USP25 1299_PLXNB2  \n",
       "0    1479.1    3261.8      561.3      3227.0  \n",
       "1    1465.1    1839.8      597.8      3366.0  \n",
       "2    1428.3    3057.2      625.7      8703.7  \n",
       "3    1063.6    7339.7      593.2      2918.9  \n",
       "4    1170.1    1036.8      552.8      3457.1  \n",
       "\n",
       "[5 rows x 61274 columns]"
      ]
     },
     "execution_count": 8,
     "metadata": {},
     "output_type": "execute_result"
    }
   ],
   "source": [
    "# code for loading the data\n",
    "\n",
    "import numpy as np\n",
    "import pickle\n",
    "\n",
    "with open(\"task1_multiomics_data.pickle\", \"rb\") as file:\n",
    "    data_multiomics = pickle.load(file)\n",
    "    \n",
    "data_multiomics.head(5)"
   ]
  },
  {
   "cell_type": "markdown",
   "id": "d4575569-097c-4466-9e87-6d9828438528",
   "metadata": {},
   "source": [
    "## Task 1: Your experience"
   ]
  },
  {
   "cell_type": "markdown",
   "id": "0aa66553-c955-4eb2-9d00-a743a3fa8f22",
   "metadata": {},
   "source": [
    "Before we start, please briefly describe your experience in data science and machine learning (5 sentences)."
   ]
  },
  {
   "cell_type": "markdown",
   "id": "5f9bbac4-bf98-4086-b037-537dab6709af",
   "metadata": {},
   "source": [
    "> N/A"
   ]
  },
  {
   "cell_type": "markdown",
   "id": "a818d55f-4fd9-445f-893d-46c2862cd6ec",
   "metadata": {},
   "source": [
    "## Task 2: Reproduce Figure 1"
   ]
  },
  {
   "cell_type": "markdown",
   "id": "058b5193-9d31-4efe-a966-11cec06c5a3e",
   "metadata": {},
   "source": [
    "1. Reproduce **Figure 1 B and C** from the paper.\n",
    "2. Explain in a few words why this analyhsis was conducted, and what the authors want to tell the reader with the results."
   ]
  },
  {
   "cell_type": "markdown",
   "id": "f9dff1bb-8b03-45fd-9117-96311a12b1a4",
   "metadata": {},
   "source": [
    "**Figure 1:**<br/>\n",
    "<img src=\"assets/task1_multiomics_fig1.jpeg\">"
   ]
  },
  {
   "cell_type": "markdown",
   "id": "8212cb5f-3eed-4673-83ab-44a5c071a404",
   "metadata": {},
   "source": [
    "### Reproducing Figure 1B"
   ]
  },
  {
   "cell_type": "code",
   "execution_count": 9,
   "id": "e73cb227-4152-4809-8e9f-fb9ae8016b0a",
   "metadata": {},
   "outputs": [
    {
     "data": {
      "text/plain": [
       "<BarContainer object of 7 artists>"
      ]
     },
     "execution_count": 9,
     "metadata": {},
     "output_type": "execute_result"
    },
    {
     "data": {
      "image/png": "[encoded data removed]",
      "text/plain": [
       "<Figure size 640x480 with 1 Axes>"
      ]
     },
     "metadata": {},
     "output_type": "display_data"
    }
   ],
   "source": [
    "# Implementation for reproducing Figure 1B\n",
    "\n",
    "import matplotlib.pyplot as plt\n",
    "import textwrap\n",
    "from math import log10\n",
    "\n",
    "\n",
    "modalities = [\n",
    "    \"cellfree_rna\",\n",
    "    \"plasma_luminex\",\n",
    "    \"serum_luminex\",\n",
    "    \"microbiome\",\n",
    "    \"immune_system\",\n",
    "    \"metabolomics\",\n",
    "    \"plasma_somalogic\"\n",
    "]\n",
    "\n",
    "modalities_pretty = [\n",
    "    \"Cellfree\\nRNA\",\n",
    "    \"Plasma\\nLuminex\",\n",
    "    \"Serum\\nLuminex\",\n",
    "    \"Microbiome\",\n",
    "    \"Immune\\nSystem\",\n",
    "    \"Metabolomics\",\n",
    "    \"Plasma\\nSomalogic\"\n",
    "]\n",
    "\n",
    "measurement_values = []\n",
    "\n",
    "for modality in modalities:\n",
    "    measurement_values.append(\n",
    "        log10(len(data_multiomics[modality].columns)))\n",
    "    \n",
    "plt.ylabel(\"Number of measurements in log10 scale\", weight=\"bold\")\n",
    "plt.xticks(rotation=90, weight=\"bold\")\n",
    "# plt.axis('off')\n",
    "plt.tick_params(axis='x', left=True, top=False, right=False, bottom=False, labelleft=True, labeltop=False, labelright=False, labelbottom=True)\n",
    "plt.bar(modalities_pretty, measurement_values, edgecolor='black', linewidth=0.5)"
   ]
  },
  {
   "cell_type": "markdown",
   "id": "9b089fc5-bf44-4ea5-82c1-26c417ea17c0",
   "metadata": {},
   "source": [
    "### Reproducing Figure 1C"
   ]
  },
  {
   "cell_type": "code",
   "execution_count": 25,
   "id": "e2f247ba-f9f8-4940-99dc-de9cccaae30f",
   "metadata": {},
   "outputs": [
    {
     "name": "stdout",
     "output_type": "stream",
     "text": [
      "cellfree_rna (68, 37275)\n",
      "plasma_luminex (68, 62)\n",
      "serum_luminex (68, 62)\n",
      "microbiome (68, 18548)\n",
      "immune_system (68, 534)\n",
      "metabolomics (68, 3485)\n",
      "plasma_somalogic (68, 1300)\n"
     ]
    },
    {
     "data": {
      "text/plain": [
       "<BarContainer object of 7 artists>"
      ]
     },
     "execution_count": 25,
     "metadata": {},
     "output_type": "execute_result"
    },
    {
     "data": {
      "image/png": "[encoded data removed]",
      "text/plain": [
       "<Figure size 640x480 with 1 Axes>"
      ]
     },
     "metadata": {},
     "output_type": "display_data"
    }
   ],
   "source": [
    "# Implementation for reproducing Figure 1C\n",
    "import sklearn.preprocessing as preprocessing\n",
    "from sklearn.decomposition import PCA\n",
    "from collections import defaultdict\n",
    "import numpy as np\n",
    "\n",
    "explained_variance_num = []\n",
    "threshold = 0.9\n",
    "scaler = preprocessing.RobustScaler(with_scaling=False)\n",
    "\n",
    "for modality in modalities:\n",
    "    scaled_data = scaler.fit_transform(data_multiomics[modality])\n",
    "    # scaled_data = data_multiomics[modality]\n",
    "    print(modality, scaled_data.shape)\n",
    "    pca = PCA(svd_solver=\"full\")\n",
    "    pca.fit(scaled_data)\n",
    "    explained_variance = pca.explained_variance_ratio_\n",
    "    # explained_variance = -np.sort(-explained_variance)\n",
    "    explained_variance_num.append(np.where(np.cumsum(explained_variance) >= threshold)[0][0] + 1)\n",
    "    \n",
    "plt.ylabel(\"Number of PCs for 90% Variance\", weight=\"bold\")\n",
    "plt.xticks(rotation=90, weight=\"bold\")\n",
    "# plt.axis('off')\n",
    "# plt.tick_params(axis='x', left=True, top=False, right=False, bottom=False, labelleft=True, labeltop=False, labelright=False, labelbottom=True)\n",
    "plt.bar(modalities_pretty, explained_variance_num, edgecolor='black', linewidth=0.5)"
   ]
  },
  {
   "cell_type": "markdown",
   "id": "1e208e6c-6b53-4a94-a4d9-eea2545378a1",
   "metadata": {
    "jp-MarkdownHeadingCollapsed": true,
    "tags": []
   },
   "source": [
    "## Task 3: Build a prediction model for `gestational_age`"
   ]
  },
  {
   "cell_type": "markdown",
   "id": "72f7cbc5-5d8e-4f45-aaa4-b2d90cfbfdf1",
   "metadata": {},
   "source": [
    "1. Pick **two modalities** and train two models to predict `gestational_age` **for each of them** (the original paper built models for all seven of them and combined them as well; you don't need to do that).\n",
    "This should result in four trained models.\n",
    "For example, one trained model could based on `linear regression` as a model, the `immune_system` data as input, and `gestational_age` as output.\n",
    "\n",
    "2. **Evaluate** your models using a measure that you think fits best and **visualize** your predictions similar to **Figure 5**.\n",
    "\n",
    "3. For your best model, **plot a figure** similar to **Figure 2D**.\n",
    "\n",
    "4. **Briefly explain** your choices and discuss the results (particularly if your approach or your results differ from the paper).\n",
    "\n",
    "To train and evaluate models, you can use [scikit-learn](https://scikit-learn.org/stable/tutorial/basic/tutorial.html)."
   ]
  },
  {
   "cell_type": "markdown",
   "id": "20d7f41b-dc88-4862-a046-ef2059431ca0",
   "metadata": {},
   "source": [
    "**Figure 5:**<br/>\n",
    "<img src=\"assets/task1_multiomics_fig5_min.jpeg\">"
   ]
  },
  {
   "cell_type": "markdown",
   "id": "fd18c532-1f47-46eb-afd3-762fad1d1e72",
   "metadata": {
    "tags": []
   },
   "source": [
    "**Figure 2D:**<br/>\n",
    "<img src=\"assets/task1_multiomics_fig2d.jpeg\">"
   ]
  },
  {
   "cell_type": "code",
   "execution_count": null,
   "id": "58877194-bff2-462f-bbfc-c64b9ccf3f91",
   "metadata": {},
   "outputs": [],
   "source": []
  },
  {
   "cell_type": "markdown",
   "id": "52ad8f7a-958f-44ec-8281-831e324b568d",
   "metadata": {},
   "source": [
    "## Task 4: Predicting the sex of the baby using neural networks"
   ]
  },
  {
   "cell_type": "markdown",
   "id": "5b3a9325-f608-4833-8795-b831fa02b603",
   "metadata": {},
   "source": [
    "1. Try using a neural network in Tensorflow or PyTorch for the previous predicion task. \n",
    "2. Perform hypterparameter optimization.\n",
    "3. Discuss your choices in designing and optimizing the neural network.\n",
    "4. Discuss why a neural network may be better/worse than applying a regular model (e.g., linear regression or a random forest)."
   ]
  },
  {
   "cell_type": "markdown",
   "id": "23a2ee11-7db5-4672-a167-2970a51bbf21",
   "metadata": {},
   "source": []
  },
  {
   "cell_type": "markdown",
   "id": "c81ed739-b7e3-4109-a4ff-2a32fc1bf2e0",
   "metadata": {},
   "source": [
    "## Task 5: Feedback"
   ]
  },
  {
   "cell_type": "markdown",
   "id": "2fd46904-f89c-44ee-9c4c-4c162f09d239",
   "metadata": {},
   "source": [
    "Were the tasks above difficult, easy, or a mixture? In both cases, briefly describe why."
   ]
  },
  {
   "cell_type": "code",
   "execution_count": null,
   "id": "665963ee-c99b-48d2-9f4c-082c1c5338d9",
   "metadata": {},
   "outputs": [],
   "source": []
  }
 ],
 "metadata": {
  "kernelspec": {
   "display_name": "Python 3 (ipykernel)",
   "language": "python",
   "name": "python3"
  },
  "language_info": {
   "codemirror_mode": {
    "name": "ipython",
    "version": 3
   },
   "file_extension": ".py",
   "mimetype": "text/x-python",
   "name": "python",
   "nbconvert_exporter": "python",
   "pygments_lexer": "ipython3",
   "version": "3.10.6"
  },
  "toc-autonumbering": false
 },
 "nbformat": 4,
 "nbformat_minor": 5
}
