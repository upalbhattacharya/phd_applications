{
 "cells": [
  {
   "cell_type": "markdown",
   "id": "53ad851c-e846-46f8-bfb0-bdcc5a8abb71",
   "metadata": {},
   "source": [
    "# Multiomics modeling"
   ]
  },
  {
   "cell_type": "markdown",
   "id": "056d3afb-59b4-485d-983d-a4fc4328edc5",
   "metadata": {},
   "source": [
    "Let's look at the paper *\"Multiomics modeling of the immunome, transcriptome, microbiome, proteome and metabolome adaptations during human pregnancy\"* by **Ghaemi et al. 2019** (`task1_multiomics_ghaemi2019multiomics.pdf`).\n",
    "The idea is to use different modalities (measurements collected from the immune system, microbiome, etc.) to characterize biological changes during pregnancy. \n",
    "This includes whether we can predict the gestational age of a mother solely based on the collected biomarkers.\n",
    "\n",
    "**Note**: There is no need to get accquainted with multiomics modeling, at least for this exercise. In the end, this is just a regular data science task :) "
   ]
  },
  {
   "cell_type": "markdown",
   "id": "4010abf9-7c7d-438e-99cf-1678b84962fe",
   "metadata": {},
   "source": [
    "## Load the data"
   ]
  },
  {
   "cell_type": "markdown",
   "id": "a012e941-6fb3-41f7-9f0e-1f4ebcec56ad",
   "metadata": {},
   "source": [
    "Load the data from `multiomics_data.pickle` using `pickle`. You will get a [pandas](https://pandas.pydata.org/docs/user_guide/10min.html) DataFrame containing preprocessed data from the paper (the original data from their paper is a bit messy). The data contains several meta attributes as well as the different modalities.\n",
    "\n",
    "Meta attributes include:\n",
    "\n",
    "* `Sex`: sex of the baby\n",
    "* `timepoint`: 1-3 correspond to the three trimesters, 4 corresponds to postpartum\n",
    "* `gestational_age`: time of sampling"
   ]
  },
  {
   "cell_type": "markdown",
   "id": "b33f1174-8326-4fb5-a5fa-649a41f64401",
   "metadata": {},
   "source": [
    "Modalites are:\n",
    "    \n",
    "* `cellfree_rna`\n",
    "* `metabolomics`\n",
    "* `microbiome`\n",
    "* `plasma_luminex`\n",
    "* `serum_luminex`\n",
    "* `immune_system`\n",
    "* `plasma_somalogic`"
   ]
  },
  {
   "cell_type": "markdown",
   "id": "1eafff87-3cc6-4571-aab3-45125c607f37",
   "metadata": {},
   "source": [
    "For more details pleaase see the paper."
   ]
  },
  {
   "cell_type": "code",
   "execution_count": 2,
   "id": "256a11a9-81de-478e-99e1-17e0a8a5a837",
   "metadata": {},
   "outputs": [
    {
     "data": {
      "text/html": [
       "<div>\n",
       "<style scoped>\n",
       "    .dataframe tbody tr th:only-of-type {\n",
       "        vertical-align: middle;\n",
       "    }\n",
       "\n",
       "    .dataframe tbody tr th {\n",
       "        vertical-align: top;\n",
       "    }\n",
       "\n",
       "    .dataframe thead tr th {\n",
       "        text-align: left;\n",
       "    }\n",
       "</style>\n",
       "<table border=\"1\" class=\"dataframe\">\n",
       "  <thead>\n",
       "    <tr>\n",
       "      <th></th>\n",
       "      <th>Training/Validation</th>\n",
       "      <th>Gates ID</th>\n",
       "      <th>MRN</th>\n",
       "      <th>Study Subject ID Number</th>\n",
       "      <th>Sex</th>\n",
       "      <th>sex_bin</th>\n",
       "      <th>timepoint</th>\n",
       "      <th>gestational_age</th>\n",
       "      <th colspan=\"2\" halign=\"left\">cellfree_rna</th>\n",
       "      <th>...</th>\n",
       "      <th colspan=\"10\" halign=\"left\">plasma_somalogic</th>\n",
       "    </tr>\n",
       "    <tr>\n",
       "      <th></th>\n",
       "      <th></th>\n",
       "      <th></th>\n",
       "      <th></th>\n",
       "      <th></th>\n",
       "      <th></th>\n",
       "      <th></th>\n",
       "      <th></th>\n",
       "      <th></th>\n",
       "      <th>0_C2orf76</th>\n",
       "      <th>1_ACTL10</th>\n",
       "      <th>...</th>\n",
       "      <th>1290_UBE2G2</th>\n",
       "      <th>1291_TAGLN2</th>\n",
       "      <th>1292_ATP5O</th>\n",
       "      <th>1293_POMC</th>\n",
       "      <th>1294_CRYZL1</th>\n",
       "      <th>1295_SERPINF1</th>\n",
       "      <th>1296_CTSF</th>\n",
       "      <th>1297_FTCD</th>\n",
       "      <th>1298_USP25</th>\n",
       "      <th>1299_PLXNB2</th>\n",
       "    </tr>\n",
       "  </thead>\n",
       "  <tbody>\n",
       "    <tr>\n",
       "      <th>0</th>\n",
       "      <td>T</td>\n",
       "      <td>PTLG002</td>\n",
       "      <td>16661779</td>\n",
       "      <td>10565</td>\n",
       "      <td>Male</td>\n",
       "      <td>1</td>\n",
       "      <td>1</td>\n",
       "      <td>11</td>\n",
       "      <td>0.312437</td>\n",
       "      <td>-1.892930e-16</td>\n",
       "      <td>...</td>\n",
       "      <td>4804.4</td>\n",
       "      <td>2233.0</td>\n",
       "      <td>3610.9</td>\n",
       "      <td>715.8</td>\n",
       "      <td>151.4</td>\n",
       "      <td>37885.8</td>\n",
       "      <td>1479.1</td>\n",
       "      <td>3261.8</td>\n",
       "      <td>561.3</td>\n",
       "      <td>3227.0</td>\n",
       "    </tr>\n",
       "    <tr>\n",
       "      <th>1</th>\n",
       "      <td>T</td>\n",
       "      <td>PTLG002</td>\n",
       "      <td>16661779</td>\n",
       "      <td>10565</td>\n",
       "      <td>Male</td>\n",
       "      <td>1</td>\n",
       "      <td>2</td>\n",
       "      <td>18</td>\n",
       "      <td>0.312437</td>\n",
       "      <td>-1.892930e-16</td>\n",
       "      <td>...</td>\n",
       "      <td>4086.0</td>\n",
       "      <td>2160.5</td>\n",
       "      <td>2260.4</td>\n",
       "      <td>825.2</td>\n",
       "      <td>161.0</td>\n",
       "      <td>41821.5</td>\n",
       "      <td>1465.1</td>\n",
       "      <td>1839.8</td>\n",
       "      <td>597.8</td>\n",
       "      <td>3366.0</td>\n",
       "    </tr>\n",
       "    <tr>\n",
       "      <th>2</th>\n",
       "      <td>T</td>\n",
       "      <td>PTLG002</td>\n",
       "      <td>16661779</td>\n",
       "      <td>10565</td>\n",
       "      <td>Male</td>\n",
       "      <td>1</td>\n",
       "      <td>3</td>\n",
       "      <td>32</td>\n",
       "      <td>0.312437</td>\n",
       "      <td>-1.892930e-16</td>\n",
       "      <td>...</td>\n",
       "      <td>4328.0</td>\n",
       "      <td>1818.4</td>\n",
       "      <td>2445.2</td>\n",
       "      <td>1241.8</td>\n",
       "      <td>194.6</td>\n",
       "      <td>45526.1</td>\n",
       "      <td>1428.3</td>\n",
       "      <td>3057.2</td>\n",
       "      <td>625.7</td>\n",
       "      <td>8703.7</td>\n",
       "    </tr>\n",
       "    <tr>\n",
       "      <th>3</th>\n",
       "      <td>T</td>\n",
       "      <td>PTLG002</td>\n",
       "      <td>16661779</td>\n",
       "      <td>10565</td>\n",
       "      <td>Male</td>\n",
       "      <td>1</td>\n",
       "      <td>4</td>\n",
       "      <td>45</td>\n",
       "      <td>0.312437</td>\n",
       "      <td>-1.892930e-16</td>\n",
       "      <td>...</td>\n",
       "      <td>3442.4</td>\n",
       "      <td>2661.4</td>\n",
       "      <td>3879.2</td>\n",
       "      <td>703.6</td>\n",
       "      <td>153.7</td>\n",
       "      <td>36862.5</td>\n",
       "      <td>1063.6</td>\n",
       "      <td>7339.7</td>\n",
       "      <td>593.2</td>\n",
       "      <td>2918.9</td>\n",
       "    </tr>\n",
       "    <tr>\n",
       "      <th>4</th>\n",
       "      <td>T</td>\n",
       "      <td>PTLG004</td>\n",
       "      <td>23587868</td>\n",
       "      <td>10603</td>\n",
       "      <td>Female</td>\n",
       "      <td>0</td>\n",
       "      <td>1</td>\n",
       "      <td>11</td>\n",
       "      <td>5.204209</td>\n",
       "      <td>1.734736e+00</td>\n",
       "      <td>...</td>\n",
       "      <td>4261.9</td>\n",
       "      <td>1804.6</td>\n",
       "      <td>1470.6</td>\n",
       "      <td>526.8</td>\n",
       "      <td>163.0</td>\n",
       "      <td>38938.3</td>\n",
       "      <td>1170.1</td>\n",
       "      <td>1036.8</td>\n",
       "      <td>552.8</td>\n",
       "      <td>3457.1</td>\n",
       "    </tr>\n",
       "  </tbody>\n",
       "</table>\n",
       "<p>5 rows × 61274 columns</p>\n",
       "</div>"
      ],
      "text/plain": [
       "  Training/Validation Gates ID       MRN Study Subject ID Number     Sex  \\\n",
       "                                                                           \n",
       "0                   T  PTLG002  16661779                   10565    Male   \n",
       "1                   T  PTLG002  16661779                   10565    Male   \n",
       "2                   T  PTLG002  16661779                   10565    Male   \n",
       "3                   T  PTLG002  16661779                   10565    Male   \n",
       "4                   T  PTLG004  23587868                   10603  Female   \n",
       "\n",
       "  sex_bin timepoint gestational_age cellfree_rna                ...  \\\n",
       "                                       0_C2orf76      1_ACTL10  ...   \n",
       "0       1         1              11     0.312437 -1.892930e-16  ...   \n",
       "1       1         2              18     0.312437 -1.892930e-16  ...   \n",
       "2       1         3              32     0.312437 -1.892930e-16  ...   \n",
       "3       1         4              45     0.312437 -1.892930e-16  ...   \n",
       "4       0         1              11     5.204209  1.734736e+00  ...   \n",
       "\n",
       "  plasma_somalogic                                                             \\\n",
       "       1290_UBE2G2 1291_TAGLN2 1292_ATP5O 1293_POMC 1294_CRYZL1 1295_SERPINF1   \n",
       "0           4804.4      2233.0     3610.9     715.8       151.4       37885.8   \n",
       "1           4086.0      2160.5     2260.4     825.2       161.0       41821.5   \n",
       "2           4328.0      1818.4     2445.2    1241.8       194.6       45526.1   \n",
       "3           3442.4      2661.4     3879.2     703.6       153.7       36862.5   \n",
       "4           4261.9      1804.6     1470.6     526.8       163.0       38938.3   \n",
       "\n",
       "                                              \n",
       "  1296_CTSF 1297_FTCD 1298_USP25 1299_PLXNB2  \n",
       "0    1479.1    3261.8      561.3      3227.0  \n",
       "1    1465.1    1839.8      597.8      3366.0  \n",
       "2    1428.3    3057.2      625.7      8703.7  \n",
       "3    1063.6    7339.7      593.2      2918.9  \n",
       "4    1170.1    1036.8      552.8      3457.1  \n",
       "\n",
       "[5 rows x 61274 columns]"
      ]
     },
     "execution_count": 2,
     "metadata": {},
     "output_type": "execute_result"
    }
   ],
   "source": [
    "# code for loading the data\n",
    "\n",
    "import numpy as np\n",
    "import pickle\n",
    "\n",
    "with open(\"task1_multiomics_data.pickle\", \"rb\") as file:\n",
    "    data_multiomics = pickle.load(file)\n",
    "    \n",
    "data_multiomics.head(5)"
   ]
  },
  {
   "cell_type": "markdown",
   "id": "d4575569-097c-4466-9e87-6d9828438528",
   "metadata": {},
   "source": [
    "## Task 1: Your experience"
   ]
  },
  {
   "cell_type": "markdown",
   "id": "0aa66553-c955-4eb2-9d00-a743a3fa8f22",
   "metadata": {},
   "source": [
    "Before we start, please briefly describe your experience in data science and machine learning (5 sentences)."
   ]
  },
  {
   "cell_type": "markdown",
   "id": "5f9bbac4-bf98-4086-b037-537dab6709af",
   "metadata": {},
   "source": [
    "> N/A"
   ]
  },
  {
   "cell_type": "markdown",
   "id": "a818d55f-4fd9-445f-893d-46c2862cd6ec",
   "metadata": {},
   "source": [
    "## Task 2: Reproduce Figure 1"
   ]
  },
  {
   "cell_type": "markdown",
   "id": "058b5193-9d31-4efe-a966-11cec06c5a3e",
   "metadata": {},
   "source": [
    "1. Reproduce **Figure 1 B and C** from the paper.\n",
    "2. Explain in a few words why this analyhsis was conducted, and what the authors want to tell the reader with the results."
   ]
  },
  {
   "cell_type": "markdown",
   "id": "f9dff1bb-8b03-45fd-9117-96311a12b1a4",
   "metadata": {},
   "source": [
    "**Figure 1:**<br/>\n",
    "<img src=\"assets/task1_multiomics_fig1.jpeg\">"
   ]
  },
  {
   "cell_type": "code",
   "execution_count": 3,
   "id": "665ca309-1a6f-4c65-ae94-ee07045e19ba",
   "metadata": {},
   "outputs": [],
   "source": [
    "modalities = [\n",
    "    \"cellfree_rna\",\n",
    "    \"plasma_luminex\",\n",
    "    \"serum_luminex\",\n",
    "    \"microbiome\",\n",
    "    \"immune_system\",\n",
    "    \"metabolomics\",\n",
    "    \"plasma_somalogic\"\n",
    "]\n",
    "\n",
    "modalities_pretty = [\n",
    "    \"Cellfree\\nRNA\",\n",
    "    \"Plasma\\nLuminex\",\n",
    "    \"Serum\\nLuminex\",\n",
    "    \"Microbiome\",\n",
    "    \"Immune\\nSystem\",\n",
    "    \"Metabolomics\",\n",
    "    \"Plasma\\nSomalogic\"\n",
    "]"
   ]
  },
  {
   "cell_type": "markdown",
   "id": "8212cb5f-3eed-4673-83ab-44a5c071a404",
   "metadata": {
    "tags": []
   },
   "source": [
    "### Reproducing Figure 1B"
   ]
  },
  {
   "cell_type": "code",
   "execution_count": 4,
   "id": "e73cb227-4152-4809-8e9f-fb9ae8016b0a",
   "metadata": {},
   "outputs": [
    {
     "data": {
      "text/plain": [
       "<BarContainer object of 7 artists>"
      ]
     },
     "execution_count": 4,
     "metadata": {},
     "output_type": "execute_result"
    },
    {
     "data": {
      "image/png": "[encoded data removed]",
      "text/plain": [
       "<Figure size 640x480 with 1 Axes>"
      ]
     },
     "metadata": {},
     "output_type": "display_data"
    }
   ],
   "source": [
    "# Implementation for reproducing Figure 1B\n",
    "\n",
    "import matplotlib.pyplot as plt\n",
    "import textwrap\n",
    "from math import log10\n",
    "\n",
    "measurement_values = []\n",
    "\n",
    "for modality in modalities:\n",
    "    measurement_values.append(\n",
    "        log10(len(data_multiomics[modality].columns)))\n",
    "    \n",
    "plt.ylabel(\"Number of measurements in log10 scale\", weight=\"bold\")\n",
    "plt.xticks(rotation=90, weight=\"bold\")\n",
    "# plt.axis('off')\n",
    "plt.tick_params(axis='x', left=True, top=False, right=False, bottom=False, labelleft=True, labeltop=False, labelright=False, labelbottom=True)\n",
    "plt.bar(modalities_pretty, measurement_values, edgecolor='black', linewidth=0.5)"
   ]
  },
  {
   "cell_type": "markdown",
   "id": "9b089fc5-bf44-4ea5-82c1-26c417ea17c0",
   "metadata": {},
   "source": [
    "### Reproducing Figure 1C"
   ]
  },
  {
   "cell_type": "code",
   "execution_count": 77,
   "id": "1d4c44e1-374e-41c0-b9c8-35a8aeb7e7c2",
   "metadata": {
    "tags": []
   },
   "outputs": [
    {
     "name": "stderr",
     "output_type": "stream",
     "text": [
      "/tmp/ipykernel_10042/3529931191.py:3: DeprecationWarning: `np.bool` is a deprecated alias for the builtin `bool`. To silence this warning, use `bool` by itself. Doing this will not modify any behavior and is safe. If you specifically wanted the numpy scalar type, use `np.bool_` here.\n",
      "Deprecated in NumPy 1.20; for more details and guidance: https://numpy.org/devdocs/release/1.20.0-notes.html#deprecations\n",
      "  ut = corr.where(np.triu(np.ones(corr.shape),k=1).astype(np.bool))\n"
     ]
    },
    {
     "data": {
      "text/html": [
       "<div>\n",
       "<style scoped>\n",
       "    .dataframe tbody tr th:only-of-type {\n",
       "        vertical-align: middle;\n",
       "    }\n",
       "\n",
       "    .dataframe tbody tr th {\n",
       "        vertical-align: top;\n",
       "    }\n",
       "\n",
       "    .dataframe thead th {\n",
       "        text-align: right;\n",
       "    }\n",
       "</style>\n",
       "<table border=\"1\" class=\"dataframe\">\n",
       "  <thead>\n",
       "    <tr style=\"text-align: right;\">\n",
       "      <th></th>\n",
       "      <th>0_VaginalSwab_Lactobacillus</th>\n",
       "      <th>1_Saliva_Lactobacillus</th>\n",
       "      <th>2_ToothGum_Lactobacillus</th>\n",
       "      <th>3_Stool_Lactobacillus</th>\n",
       "      <th>4_VaginalSwab_Lactobacillus</th>\n",
       "      <th>5_Saliva_Lactobacillus</th>\n",
       "      <th>6_ToothGum_Lactobacillus</th>\n",
       "      <th>7_Stool_Lactobacillus</th>\n",
       "      <th>8_VaginalSwab_Streptococcus</th>\n",
       "      <th>9_Saliva_Streptococcus</th>\n",
       "      <th>...</th>\n",
       "      <th>14635_Stool_Family_XIII_AD3011_group</th>\n",
       "      <th>14855_Stool_Tyzzerella</th>\n",
       "      <th>14967_Stool_Lachnospiraceae_UCG-010</th>\n",
       "      <th>15119_Stool_Butyricicoccus</th>\n",
       "      <th>15659_Stool_Christensenellaceae_R-7_group</th>\n",
       "      <th>15682_ToothGum_NA</th>\n",
       "      <th>15703_Stool_Eubacterium</th>\n",
       "      <th>16439_Stool_Anaerotruncus</th>\n",
       "      <th>16527_Stool_Ruminococcaceae_UCG-005</th>\n",
       "      <th>16847_Stool_Ruminococcaceae_NK4A214_group</th>\n",
       "    </tr>\n",
       "  </thead>\n",
       "  <tbody>\n",
       "    <tr>\n",
       "      <th>0</th>\n",
       "      <td>103.491092</td>\n",
       "      <td>0.435833</td>\n",
       "      <td>0.004819</td>\n",
       "      <td>1.266310</td>\n",
       "      <td>0.137576</td>\n",
       "      <td>-0.021970</td>\n",
       "      <td>-0.021970</td>\n",
       "      <td>-0.005897</td>\n",
       "      <td>-0.004111</td>\n",
       "      <td>24.617278</td>\n",
       "      <td>...</td>\n",
       "      <td>-0.021970</td>\n",
       "      <td>-0.021970</td>\n",
       "      <td>-0.021970</td>\n",
       "      <td>-0.021970</td>\n",
       "      <td>-0.021970</td>\n",
       "      <td>-0.021970</td>\n",
       "      <td>-0.021970</td>\n",
       "      <td>-0.021970</td>\n",
       "      <td>-0.021970</td>\n",
       "      <td>-0.021970</td>\n",
       "    </tr>\n",
       "    <tr>\n",
       "      <th>1</th>\n",
       "      <td>79.493938</td>\n",
       "      <td>0.500424</td>\n",
       "      <td>0.105133</td>\n",
       "      <td>0.752100</td>\n",
       "      <td>-0.015477</td>\n",
       "      <td>-0.024540</td>\n",
       "      <td>-0.009899</td>\n",
       "      <td>0.039599</td>\n",
       "      <td>0.083521</td>\n",
       "      <td>8.137154</td>\n",
       "      <td>...</td>\n",
       "      <td>-0.024540</td>\n",
       "      <td>-0.024540</td>\n",
       "      <td>-0.024540</td>\n",
       "      <td>-0.024540</td>\n",
       "      <td>-0.024540</td>\n",
       "      <td>-0.024540</td>\n",
       "      <td>-0.024540</td>\n",
       "      <td>-0.024540</td>\n",
       "      <td>-0.024540</td>\n",
       "      <td>-0.024540</td>\n",
       "    </tr>\n",
       "    <tr>\n",
       "      <th>2</th>\n",
       "      <td>80.908780</td>\n",
       "      <td>-0.023788</td>\n",
       "      <td>-0.023788</td>\n",
       "      <td>1.368598</td>\n",
       "      <td>-0.002504</td>\n",
       "      <td>-0.023788</td>\n",
       "      <td>-0.010906</td>\n",
       "      <td>0.018219</td>\n",
       "      <td>-0.023788</td>\n",
       "      <td>23.479865</td>\n",
       "      <td>...</td>\n",
       "      <td>-0.023788</td>\n",
       "      <td>-0.023788</td>\n",
       "      <td>-0.023788</td>\n",
       "      <td>-0.023788</td>\n",
       "      <td>-0.023788</td>\n",
       "      <td>-0.023788</td>\n",
       "      <td>-0.023788</td>\n",
       "      <td>-0.023788</td>\n",
       "      <td>-0.023788</td>\n",
       "      <td>-0.023788</td>\n",
       "    </tr>\n",
       "    <tr>\n",
       "      <th>4</th>\n",
       "      <td>-0.027296</td>\n",
       "      <td>-0.027296</td>\n",
       "      <td>-0.027296</td>\n",
       "      <td>-0.027296</td>\n",
       "      <td>113.439548</td>\n",
       "      <td>-0.005474</td>\n",
       "      <td>-0.027296</td>\n",
       "      <td>0.019580</td>\n",
       "      <td>-0.027296</td>\n",
       "      <td>42.428919</td>\n",
       "      <td>...</td>\n",
       "      <td>-0.027296</td>\n",
       "      <td>-0.027296</td>\n",
       "      <td>-0.027296</td>\n",
       "      <td>-0.027296</td>\n",
       "      <td>-0.012748</td>\n",
       "      <td>-0.027296</td>\n",
       "      <td>-0.027296</td>\n",
       "      <td>-0.027296</td>\n",
       "      <td>-0.027296</td>\n",
       "      <td>-0.027296</td>\n",
       "    </tr>\n",
       "    <tr>\n",
       "      <th>5</th>\n",
       "      <td>-0.031516</td>\n",
       "      <td>-0.031516</td>\n",
       "      <td>-0.031516</td>\n",
       "      <td>0.003643</td>\n",
       "      <td>86.293136</td>\n",
       "      <td>-0.031516</td>\n",
       "      <td>-0.031516</td>\n",
       "      <td>0.111020</td>\n",
       "      <td>-0.031516</td>\n",
       "      <td>19.613768</td>\n",
       "      <td>...</td>\n",
       "      <td>-0.031516</td>\n",
       "      <td>-0.031516</td>\n",
       "      <td>-0.031516</td>\n",
       "      <td>-0.031516</td>\n",
       "      <td>-0.017263</td>\n",
       "      <td>-0.031516</td>\n",
       "      <td>-0.031516</td>\n",
       "      <td>-0.031516</td>\n",
       "      <td>-0.031516</td>\n",
       "      <td>-0.031516</td>\n",
       "    </tr>\n",
       "  </tbody>\n",
       "</table>\n",
       "<p>5 rows × 1544 columns</p>\n",
       "</div>"
      ],
      "text/plain": [
       "   0_VaginalSwab_Lactobacillus  1_Saliva_Lactobacillus  \\\n",
       "0                   103.491092                0.435833   \n",
       "1                    79.493938                0.500424   \n",
       "2                    80.908780               -0.023788   \n",
       "4                    -0.027296               -0.027296   \n",
       "5                    -0.031516               -0.031516   \n",
       "\n",
       "   2_ToothGum_Lactobacillus  3_Stool_Lactobacillus  \\\n",
       "0                  0.004819               1.266310   \n",
       "1                  0.105133               0.752100   \n",
       "2                 -0.023788               1.368598   \n",
       "4                 -0.027296              -0.027296   \n",
       "5                 -0.031516               0.003643   \n",
       "\n",
       "   4_VaginalSwab_Lactobacillus  5_Saliva_Lactobacillus  \\\n",
       "0                     0.137576               -0.021970   \n",
       "1                    -0.015477               -0.024540   \n",
       "2                    -0.002504               -0.023788   \n",
       "4                   113.439548               -0.005474   \n",
       "5                    86.293136               -0.031516   \n",
       "\n",
       "   6_ToothGum_Lactobacillus  7_Stool_Lactobacillus  \\\n",
       "0                 -0.021970              -0.005897   \n",
       "1                 -0.009899               0.039599   \n",
       "2                 -0.010906               0.018219   \n",
       "4                 -0.027296               0.019580   \n",
       "5                 -0.031516               0.111020   \n",
       "\n",
       "   8_VaginalSwab_Streptococcus  9_Saliva_Streptococcus  ...  \\\n",
       "0                    -0.004111               24.617278  ...   \n",
       "1                     0.083521                8.137154  ...   \n",
       "2                    -0.023788               23.479865  ...   \n",
       "4                    -0.027296               42.428919  ...   \n",
       "5                    -0.031516               19.613768  ...   \n",
       "\n",
       "   14635_Stool_Family_XIII_AD3011_group  14855_Stool_Tyzzerella  \\\n",
       "0                             -0.021970               -0.021970   \n",
       "1                             -0.024540               -0.024540   \n",
       "2                             -0.023788               -0.023788   \n",
       "4                             -0.027296               -0.027296   \n",
       "5                             -0.031516               -0.031516   \n",
       "\n",
       "   14967_Stool_Lachnospiraceae_UCG-010  15119_Stool_Butyricicoccus  \\\n",
       "0                            -0.021970                   -0.021970   \n",
       "1                            -0.024540                   -0.024540   \n",
       "2                            -0.023788                   -0.023788   \n",
       "4                            -0.027296                   -0.027296   \n",
       "5                            -0.031516                   -0.031516   \n",
       "\n",
       "   15659_Stool_Christensenellaceae_R-7_group  15682_ToothGum_NA  \\\n",
       "0                                  -0.021970          -0.021970   \n",
       "1                                  -0.024540          -0.024540   \n",
       "2                                  -0.023788          -0.023788   \n",
       "4                                  -0.012748          -0.027296   \n",
       "5                                  -0.017263          -0.031516   \n",
       "\n",
       "   15703_Stool_Eubacterium  16439_Stool_Anaerotruncus  \\\n",
       "0                -0.021970                  -0.021970   \n",
       "1                -0.024540                  -0.024540   \n",
       "2                -0.023788                  -0.023788   \n",
       "4                -0.027296                  -0.027296   \n",
       "5                -0.031516                  -0.031516   \n",
       "\n",
       "   16527_Stool_Ruminococcaceae_UCG-005  \\\n",
       "0                            -0.021970   \n",
       "1                            -0.024540   \n",
       "2                            -0.023788   \n",
       "4                            -0.027296   \n",
       "5                            -0.031516   \n",
       "\n",
       "   16847_Stool_Ruminococcaceae_NK4A214_group  \n",
       "0                                  -0.021970  \n",
       "1                                  -0.024540  \n",
       "2                                  -0.023788  \n",
       "4                                  -0.027296  \n",
       "5                                  -0.031516  \n",
       "\n",
       "[5 rows x 1544 columns]"
      ]
     },
     "execution_count": 77,
     "metadata": {},
     "output_type": "execute_result"
    }
   ],
   "source": [
    "check = data_multiomics.loc[data_multiomics[\"timepoint\"] != 4][\"microbiome\"].T.drop_duplicates().T\n",
    "corr = check.corr().abs()\n",
    "ut = corr.where(np.triu(np.ones(corr.shape),k=1).astype(np.bool))\n",
    "cols_to_drop = [col for col in ut.columns if any(ut[col] > 0.95)]\n",
    "fresh = check.drop(cols_to_drop, axis=1)\n",
    "fresh.head(5)"
   ]
  },
  {
   "cell_type": "code",
   "execution_count": 57,
   "id": "e2f247ba-f9f8-4940-99dc-de9cccaae30f",
   "metadata": {},
   "outputs": [
    {
     "name": "stdout",
     "output_type": "stream",
     "text": [
      "cellfree_rna (51, 29481)\n",
      "<class 'numpy.ndarray'>\n",
      "plasma_luminex (51, 62)\n",
      "<class 'numpy.ndarray'>\n",
      "serum_luminex (51, 62)\n",
      "<class 'numpy.ndarray'>\n",
      "microbiome (51, 3697)\n",
      "<class 'numpy.ndarray'>\n",
      "immune_system (51, 534)\n",
      "<class 'numpy.ndarray'>\n",
      "metabolomics (51, 3485)\n",
      "<class 'numpy.ndarray'>\n",
      "plasma_somalogic (51, 1300)\n",
      "<class 'numpy.ndarray'>\n"
     ]
    },
    {
     "data": {
      "text/plain": [
       "<BarContainer object of 7 artists>"
      ]
     },
     "execution_count": 57,
     "metadata": {},
     "output_type": "execute_result"
    },
    {
     "data": {
      "image/png": "[encoded data removed]",
      "text/plain": [
       "<Figure size 640x480 with 1 Axes>"
      ]
     },
     "metadata": {},
     "output_type": "display_data"
    }
   ],
   "source": [
    "# Implementation for reproducing Figure 1C\n",
    "import sklearn.preprocessing as preprocessing\n",
    "from sklearn.decomposition import PCA, KernelPCA\n",
    "from collections import defaultdict\n",
    "import numpy as np\n",
    "\n",
    "explained_variance_num = []\n",
    "threshold = 0.9\n",
    "scaler = preprocessing.StandardScaler(with_std=False)\n",
    "# scaler = MinMaxScaler()\n",
    "\n",
    "relevant = data_multiomics.loc[data_multiomics[\"timepoint\"] != 4]\n",
    "# relevant = data_multiomics\n",
    "\n",
    "for modality in modalities:\n",
    "    rel_modality = relevant[modality].T.drop_duplicates().T.dropna()  # Drop duplicate columns\n",
    "    # corr = rel_modality.corr().abs()\n",
    "    # ut = corr.where(np.triu(np.ones(corr.shape),k=1).astype(np.bool))\n",
    "    # cols_to_drop = [col for col in ut.columns if any(ut[col] > 0.95)]\n",
    "    # rel_modality = check.drop(cols_to_drop, axis=1)\n",
    "    scaled_data = scaler.fit_transform(rel_modality)\n",
    "    # scaled_data = rel_modality\n",
    "    print(modality, scaled_data.shape)\n",
    "    # print(scaler.n_features_in_)\n",
    "    pca = PCA()\n",
    "    # pca = KernelPCA(kernel=\"precomputed\")\n",
    "    pca.fit(scaled_data)\n",
    "    # print(pca.n_features_)\n",
    "    eigs = pca.singular_values_\n",
    "    # eigs = pca.eigenvalues_\n",
    "    print(type(eigs))\n",
    "    list(eigs).sort(reverse=True)\n",
    "    explained_variance = eigs * 1./sum(eigs)\n",
    "    # explained_variance = pca.explained_variance_ratio_\n",
    "    # explained_variance = -np.sort(-explained_variance)\n",
    "    explained_variance_num.append(np.where(np.cumsum(explained_variance) >= threshold)[0][0] + 1)\n",
    "    \n",
    "plt.ylabel(\"Number of PCs for 90% Variance\", weight=\"bold\")\n",
    "plt.xticks(rotation=90, weight=\"bold\")\n",
    "# plt.axis('off')\n",
    "# plt.tick_params(axis='x', left=True, top=False, right=False, bottom=False, labelleft=True, labeltop=False, labelright=False, labelbottom=True)\n",
    "plt.bar(modalities_pretty, explained_variance_num, edgecolor='black', linewidth=0.5)"
   ]
  },
  {
   "cell_type": "markdown",
   "id": "1e208e6c-6b53-4a94-a4d9-eea2545378a1",
   "metadata": {
    "tags": []
   },
   "source": [
    "## Task 3: Build a prediction model for `gestational_age`"
   ]
  },
  {
   "cell_type": "markdown",
   "id": "72f7cbc5-5d8e-4f45-aaa4-b2d90cfbfdf1",
   "metadata": {},
   "source": [
    "1. Pick **two modalities** and train two models to predict `gestational_age` **for each of them** (the original paper built models for all seven of them and combined them as well; you don't need to do that).\n",
    "This should result in four trained models.\n",
    "For example, one trained model could based on `linear regression` as a model, the `immune_system` data as input, and `gestational_age` as output.\n",
    "\n",
    "2. **Evaluate** your models using a measure that you think fits best and **visualize** your predictions similar to **Figure 5**.\n",
    "\n",
    "3. For your best model, **plot a figure** similar to **Figure 2D**.\n",
    "\n",
    "4. **Briefly explain** your choices and discuss the results (particularly if your approach or your results differ from the paper).\n",
    "\n",
    "To train and evaluate models, you can use [scikit-learn](https://scikit-learn.org/stable/tutorial/basic/tutorial.html)."
   ]
  },
  {
   "cell_type": "markdown",
   "id": "20d7f41b-dc88-4862-a046-ef2059431ca0",
   "metadata": {},
   "source": [
    "**Figure 5:**<br/>\n",
    "<img src=\"assets/task1_multiomics_fig5_min.jpeg\">"
   ]
  },
  {
   "cell_type": "markdown",
   "id": "fd18c532-1f47-46eb-afd3-762fad1d1e72",
   "metadata": {
    "tags": []
   },
   "source": [
    "**Figure 2D:**<br/>\n",
    "<img src=\"assets/task1_multiomics_fig2d.jpeg\">"
   ]
  },
  {
   "cell_type": "markdown",
   "id": "d8d93ecc-74e6-4042-a786-8d99ffcd9292",
   "metadata": {},
   "source": [
    "Strategy for choosing modalities and models:\n",
    " - Create several dataset variations\n",
    "     - Removing data of one entire timepoint\n",
    "     - Removing some data randomly from each timepoint (also, gradually increasing the\n",
    "         amount of sparsity to investigate how much data is necessary)\n",
    " - Choose several models\n",
    "     - Linear Regression\n",
    "     - Kernel Principal Component Regression\n",
    "     - Kernel Support Vector Regression\n",
    "     \n",
    "**SELECTION STRATEGY: Choose modalities that show the best performance on the \n",
    "validation sets (on average) across all dataset variations**"
   ]
  },
  {
   "cell_type": "markdown",
   "id": "73f2650b-ef9d-44ab-9376-b65be1920325",
   "metadata": {},
   "source": [
    "### Creating dataset variations"
   ]
  },
  {
   "cell_type": "markdown",
   "id": "8583dbfe-503c-4d71-9acf-edac9de19ba4",
   "metadata": {},
   "source": [
    "#### Removing one timepoint"
   ]
  },
  {
   "cell_type": "code",
   "execution_count": 35,
   "id": "6f1b5939-c0a4-40f4-bd60-f5139101eb9c",
   "metadata": {},
   "outputs": [],
   "source": [
    "import warnings\n",
    "warnings.filterwarnings('ignore')"
   ]
  },
  {
   "cell_type": "code",
   "execution_count": 54,
   "id": "ca80c73f-10cf-40bb-acb2-d9d7c2fa3550",
   "metadata": {},
   "outputs": [],
   "source": [
    "class KernelPCAMaxVariance(KernelPCA):\n",
    "    def __init__ (\n",
    "            self,\n",
    "            variance: float = 0.9,\n",
    "            kernel: str = \"rbf\"):\n",
    "        super(KernelPCA, self).__init__()\n",
    "        self.kernel = kernel\n",
    "        self.variance = variance\n",
    "        \n",
    "    def fit(self, X, y=None):\n",
    "        self = super(KernelPCA, self).fit(X, y)\n",
    "        eigenvalues = self.kpca.eigenvalues_\n",
    "        explained_variance = eigenvalues * 1./sum(eigenvalues)\n",
    "        num = np.where(np.cumsum(explained_variance) >= self.variance)[0][0] + 1\n",
    "        self.eigenvalues_ = self.eigenvalues_[:num]\n",
    "        self.eigenvectors_ = self.eigenvectors_[:, :num]\n",
    "        return self\n",
    "        "
   ]
  },
  {
   "cell_type": "code",
   "execution_count": 63,
   "id": "3b390910-b14e-49b8-ade1-206738360496",
   "metadata": {},
   "outputs": [
    {
     "name": "stdout",
     "output_type": "stream",
     "text": [
      "0 cellfree_rna 0.8766230310433396\n",
      "0 plasma_luminex 0.9816035234513167\n",
      "0 serum_luminex 0.9323730805065393\n",
      "0 microbiome 0.40352540019032757\n",
      "0 immune_system 1.0\n",
      "0 metabolomics 1.0\n",
      "0 plasma_somalogic 0.9266954473401108\n"
     ]
    }
   ],
   "source": [
    "from sklearn.pipeline import Pipeline\n",
    "from sklearn.preprocessing import StandardScaler\n",
    "from sklearn.decomposition import KernelPCA\n",
    "from sklearn.linear_model import LinearRegression\n",
    "from itertools import product\n",
    "\n",
    "\n",
    "# timepoint_to_drop = range(1, 5)\n",
    "timepoint_to_drop = [0]\n",
    "\n",
    "# Creating model pipeline\n",
    "# pipeline = Pipeline(steps=[\n",
    "#     (\"scaler\", MaxAbsScaler()),\n",
    "#     (\"model\", LinearRegression())])\n",
    "\n",
    "\n",
    "for timepoint, modality in product(timepoint_to_drop, modalities):\n",
    "    # Creating training and test/validation splits\n",
    "    X_train = data_multiomics.loc[data_multiomics[\"timepoint\"] != timepoint]\n",
    "    y_train = X_train[\"gestational_age\"]\n",
    "    X_train = X_train.drop(\"gestational_age\", axis=1)[modality]\n",
    "\n",
    "    X_test = data_multiomics.loc[data_multiomics[\"timepoint\"] != timepoint]\n",
    "    y_test = X_test[\"gestational_age\"]\n",
    "    X_test = X_test.drop(\"gestational_age\", axis=1)[modality]\n",
    "    \n",
    "    scaler = StandardScaler(with_std=False)\n",
    "    scaler.fit(X_train)\n",
    "    pca = KernelPCA(kernel=\"linear\")\n",
    "    pca.fit(X_train)\n",
    "    eigenvalues_ = pca.eigenvalues_\n",
    "    explained_variance\n",
    "    model = LinearRegression()\n",
    "    model.fit(pca.transform(scaler.transform(X_train)), y_train)\n",
    "    score = model.score(pca.transform(scaler.transform(X_test)), y_test)\n",
    "    print(timepoint, modality, score)"
   ]
  },
  {
   "cell_type": "markdown",
   "id": "15b68aec-f0c5-4402-8826-56be4b22404e",
   "metadata": {},
   "source": [
    "#### Removing some data from each timepoint"
   ]
  },
  {
   "cell_type": "code",
   "execution_count": null,
   "id": "0d5dbf9a-8441-4053-bc0f-f4315827f951",
   "metadata": {},
   "outputs": [],
   "source": []
  },
  {
   "cell_type": "code",
   "execution_count": null,
   "id": "a5487854-44da-4e6e-8f0a-f7bac451ae98",
   "metadata": {},
   "outputs": [],
   "source": [
    "# Choosing modalities: Find modalities that require \n",
    "# the least number of principal components to explain \n",
    "# 90% variance in that modality.\n",
    "# Thereafter, pick the modalities that provide the least MSE loss"
   ]
  },
  {
   "cell_type": "code",
   "execution_count": null,
   "id": "6a2928f1-a062-463f-a8a4-82a487e934dd",
   "metadata": {},
   "outputs": [],
   "source": [
    "# Method one: Kernel Principal Component Regression"
   ]
  },
  {
   "cell_type": "markdown",
   "id": "52ad8f7a-958f-44ec-8281-831e324b568d",
   "metadata": {
    "tags": []
   },
   "source": [
    "## Task 4: Predicting the sex of the baby using neural networks"
   ]
  },
  {
   "cell_type": "markdown",
   "id": "5b3a9325-f608-4833-8795-b831fa02b603",
   "metadata": {},
   "source": [
    "1. Try using a neural network in Tensorflow or PyTorch for the previous predicion task. \n",
    "2. Perform hypterparameter optimization.\n",
    "3. Discuss your choices in designing and optimizing the neural network.\n",
    "4. Discuss why a neural network may be better/worse than applying a regular model (e.g., linear regression or a random forest)."
   ]
  },
  {
   "cell_type": "markdown",
   "id": "23a2ee11-7db5-4672-a167-2970a51bbf21",
   "metadata": {},
   "source": []
  },
  {
   "cell_type": "markdown",
   "id": "c81ed739-b7e3-4109-a4ff-2a32fc1bf2e0",
   "metadata": {},
   "source": [
    "## Task 5: Feedback"
   ]
  },
  {
   "cell_type": "markdown",
   "id": "2fd46904-f89c-44ee-9c4c-4c162f09d239",
   "metadata": {},
   "source": [
    "Were the tasks above difficult, easy, or a mixture? In both cases, briefly describe why."
   ]
  },
  {
   "cell_type": "code",
   "execution_count": null,
   "id": "665963ee-c99b-48d2-9f4c-082c1c5338d9",
   "metadata": {},
   "outputs": [],
   "source": []
  }
 ],
 "metadata": {
  "kernelspec": {
   "display_name": "Python 3 (ipykernel)",
   "language": "python",
   "name": "python3"
  },
  "language_info": {
   "codemirror_mode": {
    "name": "ipython",
    "version": 3
   },
   "file_extension": ".py",
   "mimetype": "text/x-python",
   "name": "python",
   "nbconvert_exporter": "python",
   "pygments_lexer": "ipython3",
   "version": "3.10.6"
  },
  "toc-autonumbering": false
 },
 "nbformat": 4,
 "nbformat_minor": 5
}
